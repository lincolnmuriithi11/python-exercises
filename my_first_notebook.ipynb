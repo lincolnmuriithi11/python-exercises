{
 "cells": [
  {
   "cell_type": "code",
   "execution_count": null,
   "id": "6f91e295",
   "metadata": {},
   "outputs": [],
   "source": [
    "#change cells to code = command y\n"
   ]
  },
  {
   "cell_type": "code",
   "execution_count": null,
   "id": "1abb2302",
   "metadata": {},
   "outputs": [],
   "source": [
    "#inserting a new cell above 'A' insert a cell below 'B'"
   ]
  },
  {
   "cell_type": "code",
   "execution_count": null,
   "id": "64082dca",
   "metadata": {},
   "outputs": [],
   "source": [
    "#running a line of code command (enter)"
   ]
  }
 ],
 "metadata": {
  "kernelspec": {
   "display_name": "Python 3 (ipykernel)",
   "language": "python",
   "name": "python3"
  },
  "language_info": {
   "codemirror_mode": {
    "name": "ipython",
    "version": 3
   },
   "file_extension": ".py",
   "mimetype": "text/x-python",
   "name": "python",
   "nbconvert_exporter": "python",
   "pygments_lexer": "ipython3",
   "version": "3.9.7"
  }
 },
 "nbformat": 4,
 "nbformat_minor": 5
}
